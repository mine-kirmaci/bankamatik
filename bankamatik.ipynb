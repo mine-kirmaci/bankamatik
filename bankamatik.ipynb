{
 "cells": [
  {
   "cell_type": "code",
   "execution_count": 25,
   "metadata": {},
   "outputs": [],
   "source": [
    "\n",
    "def islem():\n",
    "    print('''Hangi işlemi yapmak istersiniz?\n",
    "    1: Bakiye Sorgulama\n",
    "    2: Para Yatirma\n",
    "    3: Para Çekme''')\n",
    "    secenek = int(input(\"Secenek: \"))\n",
    "    return secenek\n",
    "\n",
    "def bakiyeSorgula():\n",
    "    yeniBakiye()\n",
    "def paraYatir():\n",
    "    print(\"Bakiyeniz: \" + str(hesapA['bakiye']))\n",
    "    print(\"Kaç tl yatirmak istersiniz?\")\n",
    "    yatir=int(input(\"Yatirilacak tutar: \"))\n",
    "    hesapA['bakiye'] += yatir\n",
    "    yeniBakiye()\n",
    "def paraCek():\n",
    "    print(\"Bakiyeniz: \" + str(hesapA['bakiye']))\n",
    "    print(\"Kaç tl cekmek istersiniz?\")\n",
    "    cek=int(input(\"Cekilecek tutar: \"))\n",
    "    hesapA['bakiye'] -= cek\n",
    "    yeniBakiye()\n",
    "def yeniBakiye():\n",
    "    with open(\"banka.txt\", \"a\") as dosya:\n",
    "        dosya.write(f\"Bakiyeniz: {hesapA['bakiye']}\\n\")\n"
   ]
  },
  {
   "cell_type": "code",
   "execution_count": 29,
   "metadata": {},
   "outputs": [
    {
     "name": "stdout",
     "output_type": "stream",
     "text": [
      "**********Merhaba BalkanBank'a Hoşgeldiniz**********\n",
      "Merhaba Mine Kırmacı\n",
      "Hangi işlemi yapmak istersiniz?\n",
      "    1: Bakiye Sorgulama\n",
      "    2: Para Yatirma\n",
      "    3: Para Çekme\n"
     ]
    }
   ],
   "source": [
    "# Banka hesap bilgileri\n",
    "hesapA = {\n",
    "    'ad': \"Mine Kırmacı\",\n",
    "    'hesapNo': \"123456\",\n",
    "    'bakiye': 3000,\n",
    "    'ekHesap': 2000\n",
    "}\n",
    "\n",
    "print(\"**********Merhaba BalkanBank'a Hoşgeldiniz**********\")\n",
    "isim = input(\"İsminizi giriniz: \")\n",
    "no = input(\"Hesap No giriniz: \")\n",
    "\n",
    "if isim == hesapA['ad'].lower() and no == hesapA['hesapNo']:\n",
    "    print(\"Merhaba \" + hesapA['ad'])\n",
    "    secenek = islem()\n",
    "    if secenek == 1:\n",
    "        bakiyeSorgula()\n",
    "    elif secenek == 2:\n",
    "        paraYatir()\n",
    "    elif secenek == 3:\n",
    "        paraCek()\n",
    "    else:\n",
    "        print(\"Geçersiz seçenek.\")\n",
    "else:\n",
    "    print(\"Hesap bilgileriniz hatali. Lütfen tekrar deneyin.\")\n",
    "yeniBakiye()"
   ]
  }
 ],
 "metadata": {
  "kernelspec": {
   "display_name": "Python 3.12.1",
   "language": "python",
   "name": "myenv"
  },
  "language_info": {
   "codemirror_mode": {
    "name": "ipython",
    "version": 3
   },
   "file_extension": ".py",
   "mimetype": "text/x-python",
   "name": "python",
   "nbconvert_exporter": "python",
   "pygments_lexer": "ipython3",
   "version": "3.12.1"
  }
 },
 "nbformat": 4,
 "nbformat_minor": 2
}
